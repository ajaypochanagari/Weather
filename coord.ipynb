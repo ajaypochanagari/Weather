import os
from os.path import join, dirname
from dotenv import load_dotenv

dotenv_path = join(dirname("DECOUVERTE_REQUESTS"), '.env')
load_dotenv(dotenv_path)

API_KEY = os.environ.get("API_KEY")

import requests
import pandas as pd

# Liste des villes à géocoder
villes = ["Paris", "Marseille", "Lyon", "Toulouse", "Nice", "Nantes", "Strasbourg", "Montpellier", "Bordeaux", "Lille",
          "Rennes", "Reims", "Le Havre", "Saint-Étienne", "Toulon", "Grenoble", "Dijon", "Angers", "Nîmes", "Villeurbanne"]

# Clé d'API Geocoding de OpenWeatherMap
api_key = API_KEY

# Création d'un DataFrame vide pour stocker les coordonnées géographiques
coords_df = pd.DataFrame(columns=["ville", "latitude", "longitude"])

# Boucle sur les villes pour récupérer les coordonnées géographiques
for ville in villes:
    # Requête vers l'API Geocoding de OpenWeatherMap
    url = f"http://api.openweathermap.org/geo/1.0/direct?q={ville}&limit=1&appid={api_key}"
    response = requests.get(url)
    data = response.json()

    # Récupération des coordonnées géographiques
    if data:
        lat = data[0]["lat"]
        lng = data[0]["lon"]
        coords_df = pd.concat([coords_df, pd.DataFrame([[ville, lat, lng]], columns=["ville", "latitude", "longitude"])])
    else:
        print(f"Erreur lors de la récupération des coordonnées de {ville}")

# Jointure des coordonnées géographiques avec les données météorologiques
df = pd.read_csv("meteo_top_20_villes_fr.csv")
df = pd.merge(df, coords_df, on="ville")

df.to_csv("meteo_top_20_villes_fr.csv", index=False)
